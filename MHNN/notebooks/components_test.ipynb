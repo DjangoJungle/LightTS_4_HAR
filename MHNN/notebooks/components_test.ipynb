{
 "cells": [
  {
   "metadata": {},
   "cell_type": "markdown",
   "source": [
    "## 1. Test Data Loading\n",
    "This test ensures that the raw time-series data is loaded correctly from the UCI-HAR dataset."
   ],
   "id": "9123c2151fd2976c"
  },
  {
   "cell_type": "code",
   "id": "initial_id",
   "metadata": {
    "collapsed": true,
    "ExecuteTime": {
     "end_time": "2024-08-08T03:59:19.470873Z",
     "start_time": "2024-08-08T03:59:15.427318Z"
    }
   },
   "source": [
    "# test/test_data_loading.py\n",
    "from utils.load_data import load_inertial_signals, create_dataloaders\n",
    "\n",
    "data_dir = '../data/UCI-HAR-Dataset'\n",
    "\n",
    "# Test loading of raw signals\n",
    "signals = load_inertial_signals(data_dir, 'train')\n",
    "print(f\"Loaded signals shape: {signals.shape}\")  # Should print something like (n_samples, n_channels, 128)\n",
    "\n",
    "# Test DataLoader creation\n",
    "train_loader, test_loader = create_dataloaders(data_dir)\n",
    "for inputs, labels in train_loader:\n",
    "    print(f\"Input batch shape: {inputs.shape}, Labels batch shape: {labels.shape}\")\n",
    "    break"
   ],
   "outputs": [
    {
     "name": "stdout",
     "output_type": "stream",
     "text": [
      "Loaded signals shape: (7352, 9, 128)\n",
      "Input batch shape: torch.Size([64, 9, 128]), Labels batch shape: torch.Size([64])\n"
     ]
    }
   ],
   "execution_count": 4
  },
  {
   "metadata": {},
   "cell_type": "markdown",
   "source": [
    "## 2. Test Wavelet Decomposition\n",
    "This test ensures that wavelet decomposition is applied correctly to the loaded signals."
   ],
   "id": "18f63b88a20b205a"
  },
  {
   "metadata": {
    "ExecuteTime": {
     "end_time": "2024-08-08T03:59:23.234186Z",
     "start_time": "2024-08-08T03:59:22.130540Z"
    }
   },
   "cell_type": "code",
   "source": [
    "# test/test_wavelet_decomposition.py\n",
    "from utils.load_data import wavelet_decompose, load_inertial_signals\n",
    "\n",
    "data_dir = '../data/UCI-HAR-Dataset'\n",
    "\n",
    "# Load raw signals\n",
    "signals = load_inertial_signals(data_dir, 'train')\n",
    "print(f\"Loaded signals shape: {signals.shape}\")\n",
    "\n",
    "# Apply wavelet decomposition to the first signal of the first sample\n",
    "decomposed_coeffs = wavelet_decompose(signals[0][0])\n",
    "print(f\"Decomposed coefficients: {decomposed_coeffs}\")\n"
   ],
   "id": "7af192580c74c424",
   "outputs": [
    {
     "name": "stdout",
     "output_type": "stream",
     "text": [
      "Loaded signals shape: (7352, 9, 128)\n",
      "Decomposed coefficients: [ 1.78499404e-02  1.64124313e-02  1.85161843e-02  1.34166476e-02\n",
      "  1.19548694e-02  6.51138176e-03  6.64665223e-03  3.42283364e-03\n",
      "  6.74965607e-03 -1.25988103e-03 -1.33096498e-03  3.35540461e-03\n",
      "  9.90432918e-04 -1.26193349e-04 -3.73239208e-04 -6.69464270e-05\n",
      " -4.12063118e-04 -4.97523867e-04 -3.27708638e-05  1.57039365e-03\n",
      " -3.57191101e-04  1.15984081e-03 -1.09124344e-03  7.06213582e-03\n",
      "  8.66188023e-04  4.13573014e-04 -8.38545079e-04  1.24519885e-03\n",
      " -1.67780772e-03  1.88480455e-04 -3.17986977e-03 -3.77061156e-07\n",
      " -2.01102975e-03  1.94216450e-03 -3.74854000e-04 -4.51856000e-04\n",
      " -6.14443000e-04 -7.81180000e-05  2.65730500e-04  1.06263750e-03\n",
      " -4.76205000e-04 -3.03850000e-06  4.36393250e-03 -2.18225610e-03\n",
      " -3.43446377e-03 -2.42394850e-03  4.11028000e-04  1.34594775e-03\n",
      "  2.58614000e-04  1.56032885e-03  2.44550765e-04  8.23000300e-04\n",
      "  6.13392426e-04 -1.26363505e-03 -1.53693810e-03  2.58078920e-03\n",
      " -5.71180761e-03  1.41373475e-03  3.82400835e-04 -3.29558800e-05\n",
      " -1.11760550e-04  2.08156250e-03  5.43273405e-04 -1.40030615e-03\n",
      " -7.04116321e-03  2.97669115e-03  4.78368273e-03 -1.02973981e-03\n",
      " -3.01594972e-03 -5.75697350e-04  1.61557495e-03  1.59358251e-03\n",
      " -6.57745071e-04 -1.97828254e-03 -1.77285812e-05  1.16720136e-03\n",
      "  1.14353662e-03 -4.70780381e-04 -5.35161039e-04  8.65184038e-04\n",
      " -9.30699602e-04  1.11540438e-03 -1.65771992e-04 -1.10561519e-03\n",
      "  6.86788775e-04  2.42370537e-03 -2.09368887e-03  9.48293126e-04\n",
      " -4.06337031e-04 -1.01555029e-03  1.66672705e-03 -1.45780316e-03\n",
      " -6.58515110e-04  2.12794947e-03  2.00612063e-04  6.10221131e-04\n",
      " -2.44399085e-03  4.46711173e-04  6.28474386e-04  4.50573179e-04\n",
      "  2.62796256e-04 -9.26765967e-05 -6.93041013e-05  7.94798629e-04\n",
      " -6.63352960e-04 -2.29791531e-04  5.24503172e-04 -4.14516177e-04\n",
      " -6.63870171e-04 -4.84372388e-04  9.99040058e-04  2.50786309e-04\n",
      "  1.69044553e-03 -3.73064147e-03  1.18737385e-03  1.31455231e-03\n",
      " -4.10779069e-04 -4.60219600e-04  2.71988157e-04  3.96160888e-04\n",
      "  4.23240178e-04 -7.98474240e-04 -1.39387576e-03  2.06567458e-03\n",
      " -2.65289840e-04 -7.39767548e-04  5.99336778e-04 -1.27121218e-03]\n"
     ]
    }
   ],
   "execution_count": 5
  },
  {
   "metadata": {},
   "cell_type": "code",
   "outputs": [],
   "execution_count": null,
   "source": "",
   "id": "841fc932a4043e6f"
  }
 ],
 "metadata": {
  "kernelspec": {
   "display_name": "Python 3",
   "language": "python",
   "name": "python3"
  },
  "language_info": {
   "codemirror_mode": {
    "name": "ipython",
    "version": 2
   },
   "file_extension": ".py",
   "mimetype": "text/x-python",
   "name": "python",
   "nbconvert_exporter": "python",
   "pygments_lexer": "ipython2",
   "version": "2.7.6"
  }
 },
 "nbformat": 4,
 "nbformat_minor": 5
}
